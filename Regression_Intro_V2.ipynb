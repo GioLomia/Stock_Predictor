{
  "nbformat": 4,
  "nbformat_minor": 0,
  "metadata": {
    "colab": {
      "name": "Regression_Intro_V2.ipynb",
      "version": "0.3.2",
      "provenance": [],
      "include_colab_link": true
    },
    "kernelspec": {
      "name": "python3",
      "display_name": "Python 3"
    }
  },
  "cells": [
    {
      "cell_type": "markdown",
      "metadata": {
        "id": "view-in-github",
        "colab_type": "text"
      },
      "source": [
        "<a href=\"https://colab.research.google.com/github/GioLomia/Stock_Predictor/blob/master/Regression_Intro_V2.ipynb\" target=\"_parent\"><img src=\"https://colab.research.google.com/assets/colab-badge.svg\" alt=\"Open In Colab\"/></a>"
      ]
    },
    {
      "metadata": {
        "id": "XFrzHKIwWfOH",
        "colab_type": "text"
      },
      "cell_type": "markdown",
      "source": [
        "#                     **   Simple Linear Regression Classifier for stock prices**\n",
        "Linear regression demonstration on the Google stock. Not the most accurate model. Simply a demonstration."
      ]
    },
    {
      "metadata": {
        "id": "vG89VQug7BxY",
        "colab_type": "code",
        "colab": {}
      },
      "cell_type": "code",
      "source": [
        "!pip install quandl"
      ],
      "execution_count": 0,
      "outputs": []
    },
    {
      "metadata": {
        "id": "t8JlrYjlf-Jp",
        "colab_type": "code",
        "colab": {}
      },
      "cell_type": "code",
      "source": [
        "import pandas as pd\n",
        "import quandl\n",
        "import math, datetime\n",
        "import numpy as np\n",
        "import sklearn\n",
        "from sklearn import preprocessing, svm\n",
        "from sklearn.linear_model import LinearRegression\n",
        "import matplotlib.pyplot as plt\n",
        "from matplotlib import style\n",
        "import pickle\n",
        "style.use('ggplot')"
      ],
      "execution_count": 0,
      "outputs": []
    },
    {
      "metadata": {
        "id": "zPtDdYy5gwKb",
        "colab_type": "code",
        "colab": {}
      },
      "cell_type": "code",
      "source": [
        "#Get the data from Quandl\n",
        "df=quandl.get('WIKI/GOOGL')"
      ],
      "execution_count": 0,
      "outputs": []
    },
    {
      "metadata": {
        "id": "QSPsop1WiQpk",
        "colab_type": "code",
        "colab": {}
      },
      "cell_type": "code",
      "source": [
        "#Feature Engeneering\n",
        "new_df=df[[\"Adj. Open\",\t\"Adj. High\",\"Adj. Low\",\t\"Adj. Close\",\"Adj. Volume\" ]]\n",
        "new_df[\"High-Low\"] = new_df[\"Adj. High\"] - new_df[\"Adj. Low\"]\n",
        "new_df[\"High/Low\"]= new_df[\"Adj. Low\"]/new_df[\"Adj. High\"]\n",
        "new_df[\"H_L_PCT\"]= (new_df[\"Adj. High\"]-new_df[\"Adj. Close\"])/new_df[\"Adj. Close\"]*100\n",
        "new_df[\"O_C_PCT\"]= (new_df[\"Adj. Close\"]-new_df[\"Adj. Open\"])/new_df[\"Adj. Open\"]*100\n",
        "new_df=new_df[[\"Adj. Close\",\"High-Low\",\"High/Low\",\"H_L_PCT\",\"O_C_PCT\"]]"
      ],
      "execution_count": 0,
      "outputs": []
    },
    {
      "metadata": {
        "id": "Ogn3QAkxyErH",
        "colab_type": "code",
        "colab": {}
      },
      "cell_type": "code",
      "source": [
        "\n",
        "forecast_col = \"Adj. Close\"\n",
        "new_df.dropna(inplace=True)\n",
        "forecast_out=int(math.ceil(0.05*len(df)))"
      ],
      "execution_count": 0,
      "outputs": []
    },
    {
      "metadata": {
        "id": "Jrcv7RkHzIli",
        "colab_type": "code",
        "outputId": "0e392435-0b89-48fc-bfdd-74c7b76bd836",
        "colab": {
          "base_uri": "https://localhost:8080/",
          "height": 136
        }
      },
      "cell_type": "code",
      "source": [
        "#Shifting to predict the future prices\n",
        "new_df[\"label\"]=new_df[forecast_col].shift(-forecast_out)\n",
        "print(new_df.tail())"
      ],
      "execution_count": 6,
      "outputs": [
        {
          "output_type": "stream",
          "text": [
            "            Adj. Close  High-Low  High/Low   H_L_PCT   O_C_PCT  label\n",
            "Date                                                                 \n",
            "2018-03-21     1094.00     21.49  0.980617  1.343693  0.130884    NaN\n",
            "2018-03-22     1053.15     34.28  0.968374  2.921711 -2.487014    NaN\n",
            "2018-03-23     1026.55     41.91  0.960714  3.918952 -2.360729    NaN\n",
            "2018-03-26     1054.09     48.69  0.954034  0.491419  0.332191    NaN\n",
            "2018-03-27     1006.94     66.92  0.937137  5.720301 -5.353887    NaN\n"
          ],
          "name": "stdout"
        }
      ]
    },
    {
      "metadata": {
        "id": "7-6xrege0YKg",
        "colab_type": "code",
        "outputId": "a4835ad3-860e-47b3-d5ca-42f568075695",
        "colab": {
          "base_uri": "https://localhost:8080/",
          "height": 34
        }
      },
      "cell_type": "code",
      "source": [
        "#Preprossesing\n",
        "X=np.array(new_df.drop([\"label\"],1))\n",
        "X_lately=X[-forecast_out:]\n",
        "X=X[:-forecast_out]\n",
        "new_df.dropna(inplace=True)\n",
        "\n",
        "y=np.array(new_df[\"label\"])\n",
        "print(len(X),len(y))"
      ],
      "execution_count": 7,
      "outputs": [
        {
          "output_type": "stream",
          "text": [
            "3252 3252\n"
          ],
          "name": "stdout"
        }
      ]
    },
    {
      "metadata": {
        "id": "MLvvPe3X2vRW",
        "colab_type": "code",
        "colab": {}
      },
      "cell_type": "code",
      "source": [
        "#Train Test Split\n",
        "X_train, X_test, y_train, y_test = sklearn.model_selection.train_test_split(X,y,test_size=0.2)"
      ],
      "execution_count": 0,
      "outputs": []
    },
    {
      "metadata": {
        "id": "ZVlCOHiJ2Qq1",
        "colab_type": "code",
        "outputId": "b220de14-13d9-496e-a144-10672dc9ba6a",
        "colab": {
          "base_uri": "https://localhost:8080/",
          "height": 34
        }
      },
      "cell_type": "code",
      "source": [
        "#Model Set up and training\n",
        "clf=LinearRegression(n_jobs=-1)\n",
        "clf.fit(X_train,y_train)\n",
        "\n",
        "accuracy = clf.score(X_test,y_test) \n",
        "print(accuracy)  \n",
        "fore_set=clf.predict(X_lately)\n"
      ],
      "execution_count": 10,
      "outputs": [
        {
          "output_type": "stream",
          "text": [
            "0.9327890528777012\n"
          ],
          "name": "stdout"
        }
      ]
    },
    {
      "metadata": {
        "id": "xjhxMdtldKRK",
        "colab_type": "code",
        "colab": {}
      },
      "cell_type": "code",
      "source": [
        "#Save the model\n",
        "with open('linearregression.pickle','wb') as f:\n",
        "    pickle.dump(clf, f)\n",
        "pickle_in=open('linearregression.pickle','rb')\n",
        "\n",
        "clf=pickle.load(pickle_in)"
      ],
      "execution_count": 0,
      "outputs": []
    },
    {
      "metadata": {
        "id": "MRsZh1xiR60Z",
        "colab_type": "code",
        "colab": {}
      },
      "cell_type": "code",
      "source": [
        "#Plotting Set up\n",
        "new_df[\"Forecast\"]=np.nan\n",
        "last_date=new_df.iloc[-1].name\n",
        "last_unix=last_date.timestamp()\n",
        "one_day=86500\n",
        "next_unix=last_unix + one_day"
      ],
      "execution_count": 0,
      "outputs": []
    },
    {
      "metadata": {
        "id": "sJ7SDBprSaHH",
        "colab_type": "code",
        "outputId": "98416aa6-927a-447d-f8cd-4e5f7da025df",
        "colab": {
          "base_uri": "https://localhost:8080/",
          "height": 360
        }
      },
      "cell_type": "code",
      "source": [
        "#Plotting the results\n",
        "for i in fore_set:\n",
        "    next_date= datetime.datetime.fromtimestamp(next_unix)\n",
        "    next_unix+=one_day\n",
        "    new_df.loc[next_date]=[np.nan for j in range(len(new_df.columns)-1)] + [i]\n",
        "    \n",
        "new_df[\"Adj. Close\"].plot()\n",
        "new_df[\"Forecast\"].plot()\n",
        "plt.legend(loc=4)\n",
        "plt.xlabel(\"Date\")\n",
        "plt.ylabel(\"Price\")\n",
        "plt.show"
      ],
      "execution_count": 13,
      "outputs": [
        {
          "output_type": "execute_result",
          "data": {
            "text/plain": [
              "<function matplotlib.pyplot.show>"
            ]
          },
          "metadata": {
            "tags": []
          },
          "execution_count": 13
        },
        {
          "output_type": "display_data",
          "data": {
            "image/png": "[encoded data removed]",
            "text/plain": [
              "<Figure size 576x396 with 1 Axes>"
            ]
          },
          "metadata": {
            "tags": []
          }
        }
      ]
    },
    {
      "metadata": {
        "id": "c2ht2mM6Vxh_",
        "colab_type": "text"
      },
      "cell_type": "markdown",
      "source": [
        ""
      ]
    }
  ]
}